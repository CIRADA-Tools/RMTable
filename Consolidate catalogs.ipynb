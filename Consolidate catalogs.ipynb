{
 "cells": [
  {
   "cell_type": "code",
   "execution_count": 1,
   "id": "0c2dfda9",
   "metadata": {},
   "outputs": [],
   "source": [
    "import numpy as np\n",
    "from rmtable import RMTable\n",
    "import glob\n",
    "import astropy.table as at"
   ]
  },
  {
   "cell_type": "code",
   "execution_count": 11,
   "id": "85d70b6c",
   "metadata": {
    "scrolled": true
   },
   "outputs": [],
   "source": [
    "catlist=glob.glob('individual_catalogs/*.fits')\n",
    "consolidated=RMTable()\n",
    "consolidated.add_missing_columns()"
   ]
  },
  {
   "cell_type": "code",
   "execution_count": 12,
   "id": "83a3e6fc",
   "metadata": {},
   "outputs": [
    {
     "name": "stdout",
     "output_type": "stream",
     "text": [
      "individual_catalogs/Minter96.fits\n",
      "individual_catalogs/Ma2019.fits\n",
      "individual_catalogs/Brown2007.fits\n",
      "individual_catalogs/Clegg92.fits\n",
      "individual_catalogs/Anderson2015.fits\n",
      "individual_catalogs/Clarke2001.fits\n",
      "individual_catalogs/Heald2009.fits\n",
      "individual_catalogs/SimardNormandin1981.fits\n",
      "individual_catalogs/Mao2008.fits\n",
      "individual_catalogs/Tabara1980.fits\n",
      "individual_catalogs/Law2011.fits\n",
      "individual_catalogs/Livingston2021.fits\n",
      "individual_catalogs/Costa18.fits\n",
      "individual_catalogs/Rossetti2008.fits\n",
      "individual_catalogs/Kim2016.fits\n",
      "individual_catalogs/Battye2011.fits\n",
      "individual_catalogs/VanEck2018.fits\n",
      "individual_catalogs/Riseley2020_PSR.fits\n",
      "individual_catalogs/Kaczmarek2017.fits\n",
      "individual_catalogs/Mao2012b.fits\n",
      "individual_catalogs/Shanahan2019.fits\n",
      "individual_catalogs/OSullivan2023.fits\n",
      "individual_catalogs/Riseley2020_EGS.fits\n",
      "individual_catalogs/Feain2009.fits\n",
      "individual_catalogs/Farnes2014.fits\n",
      "individual_catalogs/Brown2003.fits\n",
      "individual_catalogs/OSullivan2017.fits\n",
      "individual_catalogs/Schnitzeler2019.fits\n",
      "individual_catalogs/Oren95.fits\n",
      "individual_catalogs/Vanderwoude2024.fits\n",
      "individual_catalogs/Vernstrom2018.fits\n",
      "individual_catalogs/Mao2012a.fits\n",
      "individual_catalogs/Betti2019.fits\n",
      "individual_catalogs/VanEck2021.fits\n",
      "individual_catalogs/Broten88.fits\n",
      "individual_catalogs/Livingston2022.fits\n",
      "individual_catalogs/Ranchod2024.fits\n",
      "individual_catalogs/Klein2003.fits\n",
      "individual_catalogs/Taylor2009.fits\n",
      "individual_catalogs/Costa16.fits\n",
      "individual_catalogs/Taylor2024.fits\n",
      "individual_catalogs/Roy2005.fits\n",
      "individual_catalogs/VanEck2011.fits\n",
      "individual_catalogs/Mao2010.fits\n",
      "individual_catalogs/Gaensler2001.fits\n",
      "individual_catalogs/Ma2020.fits\n",
      "individual_catalogs/Riseley2018.fits\n"
     ]
    }
   ],
   "source": [
    "for cat in catlist:\n",
    "    print(cat)\n",
    "    blank=RMTable() #make blank table.\n",
    "    blank.add_missing_columns()\n",
    "    tab=RMTable.read(cat)\n",
    "    tab.enforce_column_formats()  #Clean up any changes in column format that have crept in.\n",
    "    for key in list(tab.meta.keys()):  #Clean up any extra metadata that have crept in.\n",
    "        if key == 'VERSION': continue\n",
    "        del tab.meta[key]\n",
    "    temp=at.vstack([blank,tab],join_type='inner') #Merge with blank table with 'inner' join, which drops all nonstandard tables\n",
    "    consolidated=at.vstack([temp,consolidated],join_type='exact') #Merge with master catalog with 'exact' join, which will fail if any columns are missing."
   ]
  },
  {
   "cell_type": "code",
   "execution_count": null,
   "id": "5258ee07-8ccd-4727-83d2-6ca3cd84f5cd",
   "metadata": {},
   "outputs": [],
   "source": []
  },
  {
   "cell_type": "code",
   "execution_count": 13,
   "id": "da47ffc2",
   "metadata": {},
   "outputs": [
    {
     "name": "stdout",
     "output_type": "stream",
     "text": [
      "Column 'stokesI' has 12 entries outside the range of allowed values!\n",
      "Column 'fracpol' has 12 entries outside the range of allowed values!\n",
      "Column 'derot_polangle_err' has 1 entries outside the range of allowed values!\n",
      "Column 'Nchan' has 4308 entries outside the range of allowed values!\n",
      "The following non-standard telescope(s) were found (at least once each):\n",
      "MeerKAT\n",
      "JVLA\n",
      "The following non-standard source classification(s) were found (at least once each):\n",
      " GAL\n",
      " QSO\n",
      " \n",
      " SNR\n",
      " HII\n",
      "The following non-standard complexity test type(s) were found (at least once each):\n",
      "Sigma_add or Second_moment\n",
      " \n"
     ]
    }
   ],
   "source": [
    "consolidated.verify_columns()\n",
    "consolidated.verify_limits()\n",
    "consolidated.verify_standard_strings()"
   ]
  },
  {
   "cell_type": "code",
   "execution_count": 15,
   "id": "83e284e6",
   "metadata": {},
   "outputs": [],
   "source": [
    "consolidated.write('./consolidated_catalog_new.fits',overwrite=True)\n",
    "consolidated.write_tsv('./consolidated_catalog_new.tsv',overwrite=True)\n",
    "consolidated.write_votable('./consolidated_catalog_new.xml',overwrite=True)"
   ]
  },
  {
   "cell_type": "code",
   "execution_count": null,
   "id": "fb3a18b3",
   "metadata": {},
   "outputs": [],
   "source": []
  },
  {
   "cell_type": "code",
   "execution_count": null,
   "id": "149313ff",
   "metadata": {},
   "outputs": [],
   "source": []
  }
 ],
 "metadata": {
  "kernelspec": {
   "display_name": "Python 3 (ipykernel)",
   "language": "python",
   "name": "python3"
  },
  "language_info": {
   "codemirror_mode": {
    "name": "ipython",
    "version": 3
   },
   "file_extension": ".py",
   "mimetype": "text/x-python",
   "name": "python",
   "nbconvert_exporter": "python",
   "pygments_lexer": "ipython3",
   "version": "3.11.6"
  },
  "widgets": {
   "application/vnd.jupyter.widget-state+json": {
    "state": {},
    "version_major": 2,
    "version_minor": 0
   }
  }
 },
 "nbformat": 4,
 "nbformat_minor": 5
}
