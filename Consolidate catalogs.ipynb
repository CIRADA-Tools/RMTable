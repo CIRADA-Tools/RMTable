{
 "cells": [
  {
   "cell_type": "code",
   "execution_count": 1,
   "id": "0c2dfda9",
   "metadata": {},
   "outputs": [],
   "source": [
    "import numpy as np\n",
    "from rmtable import RMTable\n",
    "import glob\n",
    "import astropy.table as at"
   ]
  },
  {
   "cell_type": "code",
   "execution_count": 2,
   "id": "85d70b6c",
   "metadata": {},
   "outputs": [
    {
     "name": "stderr",
     "output_type": "stream",
     "text": [
      "/Users/cvaneck/Projects/RMTable/rmtable/rmtable.py:540: UserWarning: Missing essential column: ra\n",
      "  warnings.warn(f\"Missing essential column: {col}\")\n",
      "/Users/cvaneck/Projects/RMTable/rmtable/rmtable.py:135: UserWarning: Empty description for column 'ra', replacing with standard 'Right Ascension [ICRS]'\n",
      "  warnings.warn(\n",
      "/Users/cvaneck/Projects/RMTable/rmtable/rmtable.py:540: UserWarning: Missing essential column: dec\n",
      "  warnings.warn(f\"Missing essential column: {col}\")\n",
      "/Users/cvaneck/Projects/RMTable/rmtable/rmtable.py:135: UserWarning: Empty description for column 'dec', replacing with standard 'Declination [ICRS]'\n",
      "  warnings.warn(\n",
      "/Users/cvaneck/Projects/RMTable/rmtable/rmtable.py:540: UserWarning: Missing essential column: l\n",
      "  warnings.warn(f\"Missing essential column: {col}\")\n",
      "/Users/cvaneck/Projects/RMTable/rmtable/rmtable.py:135: UserWarning: Empty description for column 'l', replacing with standard 'Galactic Longitude'\n",
      "  warnings.warn(\n",
      "/Users/cvaneck/Projects/RMTable/rmtable/rmtable.py:540: UserWarning: Missing essential column: b\n",
      "  warnings.warn(f\"Missing essential column: {col}\")\n",
      "/Users/cvaneck/Projects/RMTable/rmtable/rmtable.py:135: UserWarning: Empty description for column 'b', replacing with standard 'Galactic Latitude'\n",
      "  warnings.warn(\n",
      "/Users/cvaneck/Projects/RMTable/rmtable/rmtable.py:135: UserWarning: Empty description for column 'pos_err', replacing with standard 'Position uncertainty'\n",
      "  warnings.warn(\n",
      "/Users/cvaneck/Projects/RMTable/rmtable/rmtable.py:135: UserWarning: Empty description for column 'rm', replacing with standard 'Rotation measure'\n",
      "  warnings.warn(\n",
      "/Users/cvaneck/Projects/RMTable/rmtable/rmtable.py:135: UserWarning: Empty description for column 'rm_err', replacing with standard 'Error in RM'\n",
      "  warnings.warn(\n",
      "/Users/cvaneck/Projects/RMTable/rmtable/rmtable.py:135: UserWarning: Empty description for column 'rm_width', replacing with standard 'Width in Faraday depth'\n",
      "  warnings.warn(\n",
      "/Users/cvaneck/Projects/RMTable/rmtable/rmtable.py:135: UserWarning: Empty description for column 'rm_width_err', replacing with standard 'Error in width'\n",
      "  warnings.warn(\n",
      "/Users/cvaneck/Projects/RMTable/rmtable/rmtable.py:135: UserWarning: Empty description for column 'complex_flag', replacing with standard 'Faraday complexity flag'\n",
      "  warnings.warn(\n",
      "/Users/cvaneck/Projects/RMTable/rmtable/rmtable.py:135: UserWarning: Empty description for column 'complex_test', replacing with standard 'Faraday complexity metric'\n",
      "  warnings.warn(\n",
      "/Users/cvaneck/Projects/RMTable/rmtable/rmtable.py:135: UserWarning: Empty description for column 'rm_method', replacing with standard 'RM determination method'\n",
      "  warnings.warn(\n",
      "/Users/cvaneck/Projects/RMTable/rmtable/rmtable.py:135: UserWarning: Empty description for column 'ionosphere', replacing with standard 'Ionospheric correction method'\n",
      "  warnings.warn(\n",
      "/Users/cvaneck/Projects/RMTable/rmtable/rmtable.py:135: UserWarning: Empty description for column 'Ncomp', replacing with standard 'Number of RM components'\n",
      "  warnings.warn(\n",
      "/Users/cvaneck/Projects/RMTable/rmtable/rmtable.py:135: UserWarning: Empty description for column 'stokesI', replacing with standard 'Stokes I'\n",
      "  warnings.warn(\n",
      "/Users/cvaneck/Projects/RMTable/rmtable/rmtable.py:135: UserWarning: Empty description for column 'stokesI_err', replacing with standard 'Error in Stokes I'\n",
      "  warnings.warn(\n",
      "/Users/cvaneck/Projects/RMTable/rmtable/rmtable.py:135: UserWarning: Empty description for column 'spectral_index', replacing with standard 'Stokes I spectral index'\n",
      "  warnings.warn(\n",
      "/Users/cvaneck/Projects/RMTable/rmtable/rmtable.py:135: UserWarning: Empty description for column 'spectral_index_err', replacing with standard 'Error in spectral index'\n",
      "  warnings.warn(\n",
      "/Users/cvaneck/Projects/RMTable/rmtable/rmtable.py:135: UserWarning: Empty description for column 'reffreq_I', replacing with standard 'Reference frequency for Stokes I'\n",
      "  warnings.warn(\n",
      "/Users/cvaneck/Projects/RMTable/rmtable/rmtable.py:135: UserWarning: Empty description for column 'polint', replacing with standard 'Polarized intensity'\n",
      "  warnings.warn(\n",
      "/Users/cvaneck/Projects/RMTable/rmtable/rmtable.py:135: UserWarning: Empty description for column 'polint_err', replacing with standard 'Error in Pol.Int.'\n",
      "  warnings.warn(\n",
      "/Users/cvaneck/Projects/RMTable/rmtable/rmtable.py:135: UserWarning: Empty description for column 'pol_bias', replacing with standard 'Polarization bias correction method'\n",
      "  warnings.warn(\n",
      "/Users/cvaneck/Projects/RMTable/rmtable/rmtable.py:135: UserWarning: Empty description for column 'flux_type', replacing with standard 'Stokes extraction method'\n",
      "  warnings.warn(\n",
      "/Users/cvaneck/Projects/RMTable/rmtable/rmtable.py:135: UserWarning: Empty description for column 'aperture', replacing with standard 'Integration aperture'\n",
      "  warnings.warn(\n",
      "/Users/cvaneck/Projects/RMTable/rmtable/rmtable.py:135: UserWarning: Empty description for column 'fracpol', replacing with standard 'Fractional (linear) polarization'\n",
      "  warnings.warn(\n",
      "/Users/cvaneck/Projects/RMTable/rmtable/rmtable.py:135: UserWarning: Empty description for column 'fracpol_err', replacing with standard 'Error in fractional polarization'\n",
      "  warnings.warn(\n",
      "/Users/cvaneck/Projects/RMTable/rmtable/rmtable.py:135: UserWarning: Empty description for column 'polangle', replacing with standard 'Electric vector polarization angle'\n",
      "  warnings.warn(\n",
      "/Users/cvaneck/Projects/RMTable/rmtable/rmtable.py:135: UserWarning: Empty description for column 'polangle_err', replacing with standard 'Error in EVPA'\n",
      "  warnings.warn(\n",
      "/Users/cvaneck/Projects/RMTable/rmtable/rmtable.py:135: UserWarning: Empty description for column 'reffreq_pol', replacing with standard 'Reference frequency for polarization'\n",
      "  warnings.warn(\n",
      "/Users/cvaneck/Projects/RMTable/rmtable/rmtable.py:135: UserWarning: Empty description for column 'stokesQ', replacing with standard 'Stokes Q'\n",
      "  warnings.warn(\n",
      "/Users/cvaneck/Projects/RMTable/rmtable/rmtable.py:135: UserWarning: Empty description for column 'stokesQ_err', replacing with standard 'Error in Stokes Q'\n",
      "  warnings.warn(\n",
      "/Users/cvaneck/Projects/RMTable/rmtable/rmtable.py:135: UserWarning: Empty description for column 'stokesU', replacing with standard 'Stokes U'\n",
      "  warnings.warn(\n",
      "/Users/cvaneck/Projects/RMTable/rmtable/rmtable.py:135: UserWarning: Empty description for column 'stokesU_err', replacing with standard 'Error in Stokes U'\n",
      "  warnings.warn(\n",
      "/Users/cvaneck/Projects/RMTable/rmtable/rmtable.py:135: UserWarning: Empty description for column 'derot_polangle', replacing with standard 'De-rotated EVPA'\n",
      "  warnings.warn(\n",
      "/Users/cvaneck/Projects/RMTable/rmtable/rmtable.py:135: UserWarning: Empty description for column 'derot_polangle_err', replacing with standard 'Error in De-rotated EVPA'\n",
      "  warnings.warn(\n",
      "/Users/cvaneck/Projects/RMTable/rmtable/rmtable.py:135: UserWarning: Empty description for column 'stokesV', replacing with standard 'Stokes V'\n",
      "  warnings.warn(\n",
      "/Users/cvaneck/Projects/RMTable/rmtable/rmtable.py:135: UserWarning: Empty description for column 'stokesV_err', replacing with standard 'Error in Stokes V'\n",
      "  warnings.warn(\n",
      "/Users/cvaneck/Projects/RMTable/rmtable/rmtable.py:135: UserWarning: Empty description for column 'beam_maj', replacing with standard 'Beam major axis'\n",
      "  warnings.warn(\n",
      "/Users/cvaneck/Projects/RMTable/rmtable/rmtable.py:135: UserWarning: Empty description for column 'beam_min', replacing with standard 'Beam minor axis'\n",
      "  warnings.warn(\n",
      "/Users/cvaneck/Projects/RMTable/rmtable/rmtable.py:135: UserWarning: Empty description for column 'beam_pa', replacing with standard 'Beam position angle'\n",
      "  warnings.warn(\n",
      "/Users/cvaneck/Projects/RMTable/rmtable/rmtable.py:135: UserWarning: Empty description for column 'reffreq_beam', replacing with standard 'Reference frequency for beam'\n",
      "  warnings.warn(\n",
      "/Users/cvaneck/Projects/RMTable/rmtable/rmtable.py:135: UserWarning: Empty description for column 'minfreq', replacing with standard 'Lowest frequency'\n",
      "  warnings.warn(\n",
      "/Users/cvaneck/Projects/RMTable/rmtable/rmtable.py:135: UserWarning: Empty description for column 'maxfreq', replacing with standard 'Highest frequency'\n",
      "  warnings.warn(\n",
      "/Users/cvaneck/Projects/RMTable/rmtable/rmtable.py:135: UserWarning: Empty description for column 'channelwidth', replacing with standard 'Typical channel width'\n",
      "  warnings.warn(\n",
      "/Users/cvaneck/Projects/RMTable/rmtable/rmtable.py:135: UserWarning: Empty description for column 'Nchan', replacing with standard 'Number of channels'\n",
      "  warnings.warn(\n",
      "/Users/cvaneck/Projects/RMTable/rmtable/rmtable.py:135: UserWarning: Empty description for column 'rmsf_fwhm', replacing with standard 'Full-width at half maximum of the RMSF'\n",
      "  warnings.warn(\n",
      "/Users/cvaneck/Projects/RMTable/rmtable/rmtable.py:135: UserWarning: Empty description for column 'noise_chan', replacing with standard 'Typical per-channel noise in Q;U'\n",
      "  warnings.warn(\n",
      "/Users/cvaneck/Projects/RMTable/rmtable/rmtable.py:135: UserWarning: Empty description for column 'telescope', replacing with standard 'Name of Telescope(s)'\n",
      "  warnings.warn(\n",
      "/Users/cvaneck/Projects/RMTable/rmtable/rmtable.py:135: UserWarning: Empty description for column 'int_time', replacing with standard 'Integration time'\n",
      "  warnings.warn(\n",
      "/Users/cvaneck/Projects/RMTable/rmtable/rmtable.py:135: UserWarning: Empty description for column 'epoch', replacing with standard 'Median epoch of observation'\n",
      "  warnings.warn(\n",
      "/Users/cvaneck/Projects/RMTable/rmtable/rmtable.py:135: UserWarning: Empty description for column 'interval', replacing with standard 'Interval of observation'\n",
      "  warnings.warn(\n",
      "/Users/cvaneck/Projects/RMTable/rmtable/rmtable.py:135: UserWarning: Empty description for column 'leakage', replacing with standard 'Instrumental leakage estimate'\n",
      "  warnings.warn(\n",
      "/Users/cvaneck/Projects/RMTable/rmtable/rmtable.py:135: UserWarning: Empty description for column 'beamdist', replacing with standard 'Distance from beam centre - taken as centre of tile'\n",
      "  warnings.warn(\n",
      "/Users/cvaneck/Projects/RMTable/rmtable/rmtable.py:540: UserWarning: Missing essential column: catalog\n",
      "  warnings.warn(f\"Missing essential column: {col}\")\n",
      "/Users/cvaneck/Projects/RMTable/rmtable/rmtable.py:135: UserWarning: Empty description for column 'catalog', replacing with standard 'Name of catalog'\n",
      "  warnings.warn(\n",
      "/Users/cvaneck/Projects/RMTable/rmtable/rmtable.py:135: UserWarning: Empty description for column 'dataref', replacing with standard 'Data references'\n",
      "  warnings.warn(\n",
      "/Users/cvaneck/Projects/RMTable/rmtable/rmtable.py:135: UserWarning: Empty description for column 'cat_id', replacing with standard 'Source ID in catalog'\n",
      "  warnings.warn(\n",
      "/Users/cvaneck/Projects/RMTable/rmtable/rmtable.py:135: UserWarning: Empty description for column 'type', replacing with standard 'Source classification'\n",
      "  warnings.warn(\n",
      "/Users/cvaneck/Projects/RMTable/rmtable/rmtable.py:135: UserWarning: Empty description for column 'notes', replacing with standard 'Notes'\n",
      "  warnings.warn(\n"
     ]
    }
   ],
   "source": [
    "catlist=glob.glob('individual_catalogs/*.fits')\n",
    "consolidated=RMTable()\n",
    "consolidated.add_missing_columns()"
   ]
  },
  {
   "cell_type": "code",
   "execution_count": 3,
   "id": "83a3e6fc",
   "metadata": {},
   "outputs": [
    {
     "name": "stdout",
     "output_type": "stream",
     "text": [
      "individual_catalogs/Minter96.fits\n"
     ]
    },
    {
     "name": "stderr",
     "output_type": "stream",
     "text": [
      "WARNING: MergeConflictWarning: Cannot merge meta key 'ucd' types <class 'str'> and <class 'str'>, choosing ucd='meta.id' [astropy.utils.metadata]\n"
     ]
    },
    {
     "name": "stdout",
     "output_type": "stream",
     "text": [
      "individual_catalogs/Ma2019.fits\n",
      "individual_catalogs/Brown2007.fits\n",
      "individual_catalogs/Clegg92.fits\n",
      "individual_catalogs/Anderson2015.fits\n",
      "individual_catalogs/Clarke2001.fits\n",
      "individual_catalogs/Heald2009.fits\n",
      "individual_catalogs/SimardNormandin1981.fits\n",
      "individual_catalogs/Mao2008.fits\n",
      "individual_catalogs/Tabara1980.fits\n",
      "individual_catalogs/Law2011.fits\n",
      "individual_catalogs/Livingston2021.fits\n"
     ]
    },
    {
     "name": "stderr",
     "output_type": "stream",
     "text": [
      "WARNING: MergeConflictWarning: In merged column 'noise_chan' the 'unit' attribute does not match (Jy != Jy / beam).  Using Jy / beam for merged output [astropy.utils.metadata]\n"
     ]
    },
    {
     "name": "stdout",
     "output_type": "stream",
     "text": [
      "individual_catalogs/Costa18.fits\n"
     ]
    },
    {
     "name": "stderr",
     "output_type": "stream",
     "text": [
      "WARNING: MergeConflictWarning: In merged column 'noise_chan' the 'unit' attribute does not match (Jy / beam != Jy).  Using Jy for merged output [astropy.utils.metadata]\n"
     ]
    },
    {
     "name": "stdout",
     "output_type": "stream",
     "text": [
      "individual_catalogs/Rossetti2008.fits\n",
      "individual_catalogs/Kim2016.fits\n",
      "individual_catalogs/Battye2011.fits\n",
      "individual_catalogs/VanEck2018.fits\n",
      "individual_catalogs/Riseley2020_PSR.fits\n"
     ]
    },
    {
     "name": "stderr",
     "output_type": "stream",
     "text": [
      "/Users/cvaneck/Projects/RMTable/rmtable/rmtable.py:121: UserWarning: Empty ucd for column 'cat_id', replacing with standard 'meta.id;meta.main'\n",
      "  warnings.warn(\n",
      "WARNING: MergeConflictWarning: Cannot merge meta key 'ucd' types <class 'str'> and <class 'str'>, choosing ucd='meta.id;meta.main' [astropy.utils.metadata]\n"
     ]
    },
    {
     "name": "stdout",
     "output_type": "stream",
     "text": [
      "individual_catalogs/Kaczmarek2017.fits\n",
      "individual_catalogs/Mao2012b.fits\n",
      "individual_catalogs/Shanahan2019.fits\n",
      "individual_catalogs/Riseley2020_EGS.fits\n"
     ]
    },
    {
     "name": "stderr",
     "output_type": "stream",
     "text": [
      "WARNING: MergeConflictWarning: Cannot merge meta key 'EXTNAME' types <class 'str'> and <class 'str'>, choosing EXTNAME='/Users/cjriseley/Desktop/Work/MWA/POGS/HostID/POGS-II_table.fits#1' [astropy.utils.metadata]\n",
      "WARNING: MergeConflictWarning: Cannot merge meta key 'DATE-HDU' types <class 'str'> and <class 'str'>, choosing DATE-HDU='2020-03-31T11:15:00' [astropy.utils.metadata]\n"
     ]
    },
    {
     "name": "stdout",
     "output_type": "stream",
     "text": [
      "individual_catalogs/Feain2009.fits\n",
      "individual_catalogs/Farnes2014.fits\n",
      "individual_catalogs/Brown2003.fits\n"
     ]
    },
    {
     "name": "stderr",
     "output_type": "stream",
     "text": [
      "WARNING: MergeConflictWarning: Cannot merge meta key 'ucd' types <class 'str'> and <class 'str'>, choosing ucd='pos.eq.dec;meta.main' [astropy.utils.metadata]\n",
      "WARNING: MergeConflictWarning: In merged column 'beam_maj' the 'description' attribute does not match (Beam major axis != Declination [ICRS]).  Using Declination [ICRS] for merged output [astropy.utils.metadata]\n"
     ]
    },
    {
     "name": "stdout",
     "output_type": "stream",
     "text": [
      "individual_catalogs/OSullivan2017.fits\n"
     ]
    },
    {
     "name": "stderr",
     "output_type": "stream",
     "text": [
      "WARNING: MergeConflictWarning: Cannot merge meta key 'ucd' types <class 'str'> and <class 'str'>, choosing ucd='pos.angResolution;instr.beam;phys.angSize.smajAxis' [astropy.utils.metadata]\n",
      "WARNING: MergeConflictWarning: In merged column 'beam_maj' the 'description' attribute does not match (Declination [ICRS] != Beam major axis).  Using Beam major axis for merged output [astropy.utils.metadata]\n"
     ]
    },
    {
     "name": "stdout",
     "output_type": "stream",
     "text": [
      "individual_catalogs/Schnitzeler2019.fits\n"
     ]
    },
    {
     "name": "stderr",
     "output_type": "stream",
     "text": [
      "WARNING: MergeConflictWarning: Cannot merge meta key 'ucd' types <class 'str'> and <class 'str'>, choosing ucd='em.freq;phys.polarization' [astropy.utils.metadata]\n",
      "WARNING: MergeConflictWarning: In merged column 'reffreq_I' the 'description' attribute does not match (Reference frequency for Stokes I != Reference frequency for polarization).  Using Reference frequency for polarization for merged output [astropy.utils.metadata]\n"
     ]
    },
    {
     "name": "stdout",
     "output_type": "stream",
     "text": [
      "individual_catalogs/Oren95.fits\n"
     ]
    },
    {
     "name": "stderr",
     "output_type": "stream",
     "text": [
      "WARNING: MergeConflictWarning: Cannot merge meta key 'ucd' types <class 'str'> and <class 'str'>, choosing ucd='em.freq;phys.polarization.stokes.I' [astropy.utils.metadata]\n",
      "WARNING: MergeConflictWarning: In merged column 'reffreq_I' the 'description' attribute does not match (Reference frequency for polarization != Reference frequency for Stokes I).  Using Reference frequency for Stokes I for merged output [astropy.utils.metadata]\n"
     ]
    },
    {
     "name": "stdout",
     "output_type": "stream",
     "text": [
      "individual_catalogs/Vernstrom2018.fits\n",
      "individual_catalogs/Mao2012a.fits\n",
      "individual_catalogs/Betti2019.fits\n",
      "individual_catalogs/VanEck2021.fits\n",
      "individual_catalogs/Broten88.fits\n",
      "individual_catalogs/Livingston2022.fits\n",
      "individual_catalogs/Klein2003.fits\n",
      "individual_catalogs/Taylor2009.fits\n",
      "individual_catalogs/Costa16.fits\n",
      "individual_catalogs/Roy2005.fits\n",
      "individual_catalogs/VanEck2011.fits\n",
      "individual_catalogs/Mao2010.fits\n",
      "individual_catalogs/Gaensler2001.fits\n",
      "individual_catalogs/Ma2020.fits\n",
      "individual_catalogs/Riseley2018.fits\n"
     ]
    }
   ],
   "source": [
    "for cat in catlist:\n",
    "    print(cat)\n",
    "    blank=RMTable() #make blank table.\n",
    "    blank.add_missing_columns()\n",
    "    tab=RMTable.read(cat)\n",
    "    temp=at.vstack([blank,tab],join_type='inner') #Merge with blank table with 'inner' join, which drops all nonstandard tables\n",
    "    consolidated=at.vstack([consolidated,temp],join_type='exact') #Merge with master catalog with 'exact' join, which will fail if any columns are missing."
   ]
  },
  {
   "cell_type": "code",
   "execution_count": 4,
   "id": "da47ffc2",
   "metadata": {},
   "outputs": [
    {
     "name": "stdout",
     "output_type": "stream",
     "text": [
      "Column 'stokesI' has 12 entries outside the range of allowed values!\n",
      "Column 'fracpol' has 12 entries outside the range of allowed values!\n",
      "Column 'derot_polangle_err' has 1 entries outside the range of allowed values!\n",
      "Column 'Nchan' has 3984 entries outside the range of allowed values!\n",
      "The following non-standard telescope(s) were found (at least once each):\n",
      "JVLA\n",
      "The following non-standard source classification(s) were found (at least once each):\n",
      " GAL\n",
      " QSO\n",
      " \n",
      " SNR\n",
      " HII\n"
     ]
    }
   ],
   "source": [
    "consolidated.verify_columns()\n",
    "consolidated.verify_limits()\n",
    "consolidated.verify_standard_strings()"
   ]
  },
  {
   "cell_type": "code",
   "execution_count": 5,
   "id": "83e284e6",
   "metadata": {},
   "outputs": [],
   "source": [
    "consolidated.write('./consolidated_catalog_new.fits',overwrite=True)\n",
    "consolidated.write_tsv('./consolidated_catalog_new.tsv',overwrite=True)\n",
    "consolidated.write_votable('./consolidated_catalog_new.xml',overwrite=True)"
   ]
  },
  {
   "cell_type": "code",
   "execution_count": null,
   "id": "fb3a18b3",
   "metadata": {},
   "outputs": [],
   "source": []
  },
  {
   "cell_type": "code",
   "execution_count": null,
   "id": "149313ff",
   "metadata": {},
   "outputs": [],
   "source": []
  }
 ],
 "metadata": {
  "kernelspec": {
   "display_name": "Python 3 (ipykernel)",
   "language": "python",
   "name": "python3"
  },
  "language_info": {
   "codemirror_mode": {
    "name": "ipython",
    "version": 3
   },
   "file_extension": ".py",
   "mimetype": "text/x-python",
   "name": "python",
   "nbconvert_exporter": "python",
   "pygments_lexer": "ipython3",
   "version": "3.8.3"
  }
 },
 "nbformat": 4,
 "nbformat_minor": 5
}
